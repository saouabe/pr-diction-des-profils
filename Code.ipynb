{
 "cells": [
  {
   "cell_type": "markdown",
   "metadata": {},
   "source": []
  },
  {
   "cell_type": "code",
   "execution_count": 2,
   "metadata": {},
   "outputs": [],
   "source": [
    "# Import des libraries classique (numpy, pandas, ...)\n",
    "import pandas as pd\n",
    "import numpy as np\n",
    "import re\n",
    "import warnings\n",
    "import sklearn as sk\n",
    "import seaborn as sb\n",
    "from matplotlib import pyplot as plt\n",
    "from sklearn import preprocessing\n",
    "from sklearn.cluster import KMeans\n",
    "from sklearn.preprocessing import MinMaxScaler\n",
    "from sklearn import model_selection\n",
    "from sklearn.metrics import classification_report, accuracy_score, confusion_matrix\n",
    "from sklearn.neighbors import KNeighborsClassifier\n",
    "plt.style.use('ggplot')"
   ]
  },
  {
   "cell_type": "markdown",
   "metadata": {},
   "source": [
    "### 1) Importer le tableau de données dans un dataframe "
   ]
  },
  {
   "cell_type": "code",
   "execution_count": 3,
   "metadata": {},
   "outputs": [
    {
     "data": {
      "text/html": [
       "<div>\n",
       "<style scoped>\n",
       "    .dataframe tbody tr th:only-of-type {\n",
       "        vertical-align: middle;\n",
       "    }\n",
       "\n",
       "    .dataframe tbody tr th {\n",
       "        vertical-align: top;\n",
       "    }\n",
       "\n",
       "    .dataframe thead th {\n",
       "        text-align: right;\n",
       "    }\n",
       "</style>\n",
       "<table border=\"1\" class=\"dataframe\">\n",
       "  <thead>\n",
       "    <tr style=\"text-align: right;\">\n",
       "      <th></th>\n",
       "      <th>Entreprise</th>\n",
       "      <th>Metier</th>\n",
       "      <th>Technologies</th>\n",
       "      <th>Diplome</th>\n",
       "      <th>Experience</th>\n",
       "      <th>Ville</th>\n",
       "    </tr>\n",
       "  </thead>\n",
       "  <tbody>\n",
       "    <tr>\n",
       "      <th>0</th>\n",
       "      <td>Sanofi</td>\n",
       "      <td>Data scientist</td>\n",
       "      <td>Matlab/Python/Pyspark/Scikit-learn/Tensorflow</td>\n",
       "      <td>Master</td>\n",
       "      <td>1.0</td>\n",
       "      <td>Paris</td>\n",
       "    </tr>\n",
       "    <tr>\n",
       "      <th>1</th>\n",
       "      <td>Massachusetts General Hospital(MGH)</td>\n",
       "      <td>Data architecte</td>\n",
       "      <td>Python/Java/Scala/MongoDB</td>\n",
       "      <td>Master</td>\n",
       "      <td>3.0</td>\n",
       "      <td>Marseille</td>\n",
       "    </tr>\n",
       "    <tr>\n",
       "      <th>2</th>\n",
       "      <td>Delve</td>\n",
       "      <td>Lead data scientist</td>\n",
       "      <td>SPSS/SQL/Teradata/R/Python/Tensorflow/scikit-l...</td>\n",
       "      <td>Master</td>\n",
       "      <td>3.0</td>\n",
       "      <td>Nantes</td>\n",
       "    </tr>\n",
       "  </tbody>\n",
       "</table>\n",
       "</div>"
      ],
      "text/plain": [
       "                            Entreprise               Metier  \\\n",
       "0                               Sanofi       Data scientist   \n",
       "1  Massachusetts General Hospital(MGH)      Data architecte   \n",
       "2                                Delve  Lead data scientist   \n",
       "\n",
       "                                        Technologies Diplome  Experience  \\\n",
       "0      Matlab/Python/Pyspark/Scikit-learn/Tensorflow  Master         1.0   \n",
       "1                          Python/Java/Scala/MongoDB  Master         3.0   \n",
       "2  SPSS/SQL/Teradata/R/Python/Tensorflow/scikit-l...  Master         3.0   \n",
       "\n",
       "       Ville  \n",
       "0      Paris  \n",
       "1  Marseille  \n",
       "2     Nantes  "
      ]
     },
     "execution_count": 3,
     "metadata": {},
     "output_type": "execute_result"
    }
   ],
   "source": [
    "# Import du dataframe \"data.csv\"\n",
    "df=pd.read_csv('data.csv',decimal=\",\")\n",
    "df.head(3)"
   ]
  },
  {
   "cell_type": "markdown",
   "metadata": {},
   "source": [
    "### 2) Combien y a t-il d'observations dans ce dataset? Y a t-il des valeurs manquantes? "
   ]
  },
  {
   "cell_type": "code",
   "execution_count": 4,
   "metadata": {},
   "outputs": [
    {
     "name": "stdout",
     "output_type": "stream",
     "text": [
      "Dans cette base de données il y a 9582 observations\n",
      "\n",
      "La somme des valeurs manquantes pour chaque caractéristiques est: \n",
      "Entreprise      17\n",
      "Metier          19\n",
      "Technologies     0\n",
      "Diplome          0\n",
      "Experience      94\n",
      "Ville            0\n",
      "dtype: int64\n"
     ]
    }
   ],
   "source": [
    "print(\"Dans cette base de données il y a {0:d} observations\\n\".format(df.shape[0]))\n",
    "print(\"La somme des valeurs manquantes pour chaque caractéristiques est: \")\n",
    "print(df.isna().sum())\n"
   ]
  },
  {
   "cell_type": "markdown",
   "metadata": {},
   "source": [
    "### 3) Réaliser l'imputation des valeurs manquantes pour la variable \"Experience\" avec : \n",
    "- la valeur médiane pour les data scientists\n",
    "- la valeur moyenne pour les data engineers"
   ]
  },
  {
   "cell_type": "code",
   "execution_count": 5,
   "metadata": {},
   "outputs": [
    {
     "name": "stdout",
     "output_type": "stream",
     "text": [
      "Avant l'imputation :\n",
      "\n",
      "La somme des valeurs manquantes de la variable Expérience pour le profil Data Scientist:32\n",
      "La somme des valeurs manquantes de la variable Expérience pour le profil Data Engineer:20\n",
      "\n",
      "Aprés l'imputation :\n",
      "\n",
      "La somme des valeurs manquantes de la variable Expérience pour le profil Data Scientist:0\n",
      "La somme des valeurs manquantes de la variable Expérience pour le profil Data Engineer:0\n"
     ]
    }
   ],
   "source": [
    "mask_nan_ds = df['Metier'] == 'Data scientist'\n",
    "mask_nan_de = df['Metier'] == 'Data engineer'\n",
    "print(\"Avant l\\'imputation :\\n\")\n",
    "print(\"La somme des valeurs manquantes de la variable Expérience pour le profil Data Scientist:\"+str((df.loc[mask_nan_ds,'Experience']).isna().sum()))\n",
    "print(\"La somme des valeurs manquantes de la variable Expérience pour le profil Data Engineer:\"+str((df.loc[mask_nan_de,'Experience']).isna().sum()))\n",
    "# remplire les valeurs manquantes de Data Engineers par la valeur moyenne\n",
    "mask_nan_de = df['Metier'] == 'Data engineer'\n",
    "Mean_DE = df[mask_nan_de]['Experience'].dropna().mean()\n",
    "df.loc[mask_nan_de, 'Experience'] = df.loc[mask_nan_de, 'Experience'].fillna(Mean_DE)\n",
    "# remplire les valeurs manquantes de Data Scientists par la valeur médiane\n",
    "mask_nan_ds = df['Metier'] == 'Data scientist'\n",
    "Median_DS = df[mask_nan_ds]['Experience'].dropna().median()\n",
    "df.loc[mask_nan_ds, 'Experience'] = df.loc[mask_nan_ds, 'Experience'].fillna(Median_DS)\n",
    "print(\"\\nAprés l\\'imputation :\\n\")\n",
    "print(\"La somme des valeurs manquantes de la variable Expérience pour le profil Data Scientist:\"+str((df.loc[mask_nan_ds,'Experience']).isna().sum()))\n",
    "print(\"La somme des valeurs manquantes de la variable Expérience pour le profil Data Engineer:\"+str((df.loc[mask_nan_de,'Experience']).isna().sum()))\n"
   ]
  },
  {
   "cell_type": "markdown",
   "metadata": {},
   "source": [
    "### 4) Combien d'années d'expériences ont, en moyenne, chacun des profils : le data scientist, le lead data scientist et le data engineer en moyenne?"
   ]
  },
  {
   "cell_type": "code",
   "execution_count": 6,
   "metadata": {},
   "outputs": [
    {
     "name": "stdout",
     "output_type": "stream",
     "text": [
      "Les années d'experiences en moyenne pour chaque profil:\n",
      "\n",
      "Lead data scientist : 3.965261 \n",
      "Data architecte     : 3.000476 \n",
      "Data enginner       : 2.984959 \n",
      "Data scientist      : 2.241268 \n"
     ]
    }
   ],
   "source": [
    "# remplire les valeurs manquantes de Data Scientist par la valeur moyenne\n",
    "Mean_DS = df[mask_nan_ds]['Experience'].dropna().mean()\n",
    "df.loc[mask_nan_ds, 'Experience'] = df.loc[mask_nan_ds, 'Experience'].fillna(Mean_DS)\n",
    "# remplire les valeurs manquantes de Lead Data Scientist par la valeur moyenne\n",
    "mask_nan_lds = df['Metier'] == 'Lead data scientist'\n",
    "Mean_LDS = df[mask_nan_lds]['Experience'].dropna().mean()\n",
    "df.loc[mask_nan_lds, 'Experience'] = df.loc[mask_nan_lds, 'Experience'].fillna(Mean_LDS)\n",
    "# remplire les valeurs manquantes de Data Architecte par la valeur moyenne\n",
    "mask_nan_da = df['Metier'] == 'Data architecte'\n",
    "Mean_DA = df[mask_nan_da]['Experience'].dropna().mean()\n",
    "df.loc[mask_nan_da, 'Experience'] = df.loc[mask_nan_da, 'Experience'].fillna(Mean_DA)\n",
    "#Affichge\n",
    "print(\"Les années d'experiences en moyenne pour chaque profil:\\n\")\n",
    "print(\"Lead data scientist : {0:f} \".format(Mean_LDS))\n",
    "print(\"Data architecte     : {0:f} \".format(Mean_DA))\n",
    "print(\"Data enginner       : {0:f} \".format(Mean_DE))\n",
    "print(\"Data scientist      : {0:f} \".format(Mean_DS))"
   ]
  },
  {
   "cell_type": "markdown",
   "metadata": {},
   "source": [
    "### 5) Faire la représentation graphique de votre choix afin de comparer le nombre moyen d'années d'expériences pour chaque métier"
   ]
  },
  {
   "cell_type": "code",
   "execution_count": 7,
   "metadata": {},
   "outputs": [
    {
     "data": {
      "image/png": "[encoded data removed]",
      "text/plain": [
       "<Figure size 432x288 with 1 Axes>"
      ]
     },
     "metadata": {},
     "output_type": "display_data"
    }
   ],
   "source": [
    "plt.figure()\n",
    "plt.subplot(111)\n",
    "X=df['Metier'].value_counts().keys()\n",
    "Y=[Mean_DS,Mean_DE,Mean_LDS,Mean_DA]\n",
    "plt.bar(X,Y,color=(0.2, 0.4, 0.6, 0.6))\n",
    "sb.set_context(\"talk\")\n",
    "plt.xticks(X,rotation=90)\n",
    "plt.ylabel(\"La valeur moyenne\\n\")\n",
    "plt.title(\"Le nombre moyen d'années d'expériences pour chaque métier\\n\")\n",
    "plt.show()"
   ]
  },
  {
   "cell_type": "markdown",
   "metadata": {},
   "source": [
    "### 6) Transformer la variable continue 'Experience' en une nouvelle variable catégorielle 'Exp_label' à 4 modalités: débutant, confirmé, avancé et expert\n",
    "- Veuillez expliquer votre choix du règle de transformation.  "
   ]
  },
  {
   "cell_type": "code",
   "execution_count": 8,
   "metadata": {},
   "outputs": [
    {
     "data": {
      "text/html": [
       "<div>\n",
       "<style scoped>\n",
       "    .dataframe tbody tr th:only-of-type {\n",
       "        vertical-align: middle;\n",
       "    }\n",
       "\n",
       "    .dataframe tbody tr th {\n",
       "        vertical-align: top;\n",
       "    }\n",
       "\n",
       "    .dataframe thead th {\n",
       "        text-align: right;\n",
       "    }\n",
       "</style>\n",
       "<table border=\"1\" class=\"dataframe\">\n",
       "  <thead>\n",
       "    <tr style=\"text-align: right;\">\n",
       "      <th></th>\n",
       "      <th>Entreprise</th>\n",
       "      <th>Metier</th>\n",
       "      <th>Technologies</th>\n",
       "      <th>Diplome</th>\n",
       "      <th>Experience</th>\n",
       "      <th>Ville</th>\n",
       "      <th>Exp_label</th>\n",
       "    </tr>\n",
       "  </thead>\n",
       "  <tbody>\n",
       "    <tr>\n",
       "      <th>0</th>\n",
       "      <td>Sanofi</td>\n",
       "      <td>Data scientist</td>\n",
       "      <td>Matlab/Python/Pyspark/Scikit-learn/Tensorflow</td>\n",
       "      <td>Master</td>\n",
       "      <td>1.0</td>\n",
       "      <td>Paris</td>\n",
       "      <td>Debutant</td>\n",
       "    </tr>\n",
       "    <tr>\n",
       "      <th>1</th>\n",
       "      <td>Massachusetts General Hospital(MGH)</td>\n",
       "      <td>Data architecte</td>\n",
       "      <td>Python/Java/Scala/MongoDB</td>\n",
       "      <td>Master</td>\n",
       "      <td>3.0</td>\n",
       "      <td>Marseille</td>\n",
       "      <td>Debutant</td>\n",
       "    </tr>\n",
       "    <tr>\n",
       "      <th>2</th>\n",
       "      <td>Delve</td>\n",
       "      <td>Lead data scientist</td>\n",
       "      <td>SPSS/SQL/Teradata/R/Python/Tensorflow/scikit-l...</td>\n",
       "      <td>Master</td>\n",
       "      <td>3.0</td>\n",
       "      <td>Nantes</td>\n",
       "      <td>Debutant</td>\n",
       "    </tr>\n",
       "    <tr>\n",
       "      <th>3</th>\n",
       "      <td>Ann &amp; Robert H. Lurie Children’s Hospital of C...</td>\n",
       "      <td>Data scientist</td>\n",
       "      <td>C/C++/Java/Python</td>\n",
       "      <td>Master</td>\n",
       "      <td>1.5</td>\n",
       "      <td>Marseille</td>\n",
       "      <td>Debutant</td>\n",
       "    </tr>\n",
       "    <tr>\n",
       "      <th>4</th>\n",
       "      <td>Arm</td>\n",
       "      <td>Data scientist</td>\n",
       "      <td>Matlab/Python/C++/numpy/Tensorflow/scikit-learn</td>\n",
       "      <td>Phd</td>\n",
       "      <td>2.0</td>\n",
       "      <td>Bordeaux</td>\n",
       "      <td>Debutant</td>\n",
       "    </tr>\n",
       "    <tr>\n",
       "      <th>5</th>\n",
       "      <td>S&amp;P Global Ratings</td>\n",
       "      <td>Lead data scientist</td>\n",
       "      <td>VBA/Python/Excel/R</td>\n",
       "      <td>Master</td>\n",
       "      <td>6.0</td>\n",
       "      <td>Lille</td>\n",
       "      <td>Confirme</td>\n",
       "    </tr>\n",
       "    <tr>\n",
       "      <th>6</th>\n",
       "      <td>NVIDIA</td>\n",
       "      <td>Data scientist</td>\n",
       "      <td>Excel/VBA/R/Python/PySpark</td>\n",
       "      <td>Bachelor</td>\n",
       "      <td>0.0</td>\n",
       "      <td>Lille</td>\n",
       "      <td>Debutant</td>\n",
       "    </tr>\n",
       "    <tr>\n",
       "      <th>7</th>\n",
       "      <td>Cedars-Sinai Medical Center</td>\n",
       "      <td>Data scientist</td>\n",
       "      <td>Java/C/C++/R/Python</td>\n",
       "      <td>Bachelor</td>\n",
       "      <td>4.0</td>\n",
       "      <td>Toulouse</td>\n",
       "      <td>Debutant</td>\n",
       "    </tr>\n",
       "    <tr>\n",
       "      <th>8</th>\n",
       "      <td>Fibroblast</td>\n",
       "      <td>Data architecte</td>\n",
       "      <td>Java/Linux/Docker</td>\n",
       "      <td>Bachelor</td>\n",
       "      <td>8.0</td>\n",
       "      <td>Paris</td>\n",
       "      <td>Confirme</td>\n",
       "    </tr>\n",
       "    <tr>\n",
       "      <th>9</th>\n",
       "      <td>General Motors</td>\n",
       "      <td>Data engineer</td>\n",
       "      <td>Python/Java/Linux/GNU</td>\n",
       "      <td>Master</td>\n",
       "      <td>5.0</td>\n",
       "      <td>Toulouse</td>\n",
       "      <td>Debutant</td>\n",
       "    </tr>\n",
       "  </tbody>\n",
       "</table>\n",
       "</div>"
      ],
      "text/plain": [
       "                                          Entreprise               Metier  \\\n",
       "0                                             Sanofi       Data scientist   \n",
       "1                Massachusetts General Hospital(MGH)      Data architecte   \n",
       "2                                              Delve  Lead data scientist   \n",
       "3  Ann & Robert H. Lurie Children’s Hospital of C...       Data scientist   \n",
       "4                                                Arm       Data scientist   \n",
       "5                                 S&P Global Ratings  Lead data scientist   \n",
       "6                                             NVIDIA       Data scientist   \n",
       "7                        Cedars-Sinai Medical Center       Data scientist   \n",
       "8                                         Fibroblast      Data architecte   \n",
       "9                                     General Motors        Data engineer   \n",
       "\n",
       "                                        Technologies   Diplome  Experience  \\\n",
       "0      Matlab/Python/Pyspark/Scikit-learn/Tensorflow    Master         1.0   \n",
       "1                          Python/Java/Scala/MongoDB    Master         3.0   \n",
       "2  SPSS/SQL/Teradata/R/Python/Tensorflow/scikit-l...    Master         3.0   \n",
       "3                                  C/C++/Java/Python    Master         1.5   \n",
       "4    Matlab/Python/C++/numpy/Tensorflow/scikit-learn       Phd         2.0   \n",
       "5                                 VBA/Python/Excel/R    Master         6.0   \n",
       "6                         Excel/VBA/R/Python/PySpark  Bachelor         0.0   \n",
       "7                                Java/C/C++/R/Python  Bachelor         4.0   \n",
       "8                                  Java/Linux/Docker  Bachelor         8.0   \n",
       "9                              Python/Java/Linux/GNU    Master         5.0   \n",
       "\n",
       "       Ville Exp_label  \n",
       "0      Paris  Debutant  \n",
       "1  Marseille  Debutant  \n",
       "2     Nantes  Debutant  \n",
       "3  Marseille  Debutant  \n",
       "4   Bordeaux  Debutant  \n",
       "5      Lille  Confirme  \n",
       "6      Lille  Debutant  \n",
       "7   Toulouse  Debutant  \n",
       "8      Paris  Confirme  \n",
       "9   Toulouse  Debutant  "
      ]
     },
     "execution_count": 8,
     "metadata": {},
     "output_type": "execute_result"
    }
   ],
   "source": [
    "df['Exp_label']= pd.cut(df.Experience,4 , labels=['Debutant','Confirme','Avance','Expert'])\n",
    "df.head(10)"
   ]
  },
  {
   "cell_type": "code",
   "execution_count": 26,
   "metadata": {},
   "outputs": [
    {
     "data": {
      "image/png": "[encoded data removed]",
      "text/plain": [
       "<Figure size 432x288 with 1 Axes>"
      ]
     },
     "metadata": {},
     "output_type": "display_data"
    }
   ],
   "source": [
    "plt.figure()\n",
    "plt.subplot(111)\n",
    "X=df['Exp_label'].value_counts().keys()\n",
    "Y=df['Exp_label'].value_counts().values\n",
    "plt.bar(X,Y,color=(0.2, 0.4, 0.6, 0.6))\n",
    "sb.set_context(\"talk\")\n",
    "plt.xticks(X,rotation=90)\n",
    "plt.ylabel(\"La valeur moyenne\\n\")\n",
    "plt.title(\"Le nombre moyen d'années d'expériences pour chaque métier \\n\")\n",
    "plt.show()"
   ]
  },
  {
   "cell_type": "markdown",
   "metadata": {},
   "source": [
    "### 7) Quelles sont les 5 technologies les plus utilisées? Faites un graphique"
   ]
  },
  {
   "cell_type": "code",
   "execution_count": 9,
   "metadata": {},
   "outputs": [
    {
     "name": "stdout",
     "output_type": "stream",
     "text": [
      "SQL/R/Python//Big data                                539\n",
      "SAS/Teradata/SQL/R/Python/Machine learning/Anglais    458\n",
      "C++/R/Python/Matlab/Matplotlib                        273\n",
      "SPSS/Excel/SAS/R/machine learning/AI/Scoring          250\n",
      "Hadoop/Hive/Vertica/Tableau                           250\n",
      "Name: Technologies, dtype: int64\n"
     ]
    },
    {
     "data": {
      "text/plain": [
       "Text(0.5,1,'Les 5 top technologies les plus utilisés')"
      ]
     },
     "execution_count": 9,
     "metadata": {},
     "output_type": "execute_result"
    },
    {
     "data": {
      "image/png": "[encoded data removed]",
      "text/plain": [
       "<Figure size 720x504 with 1 Axes>"
      ]
     },
     "metadata": {},
     "output_type": "display_data"
    }
   ],
   "source": [
    "Top_5_tech = df['Technologies'].value_counts()[0:5]\n",
    "print(Top_5_tech)\n",
    "\n",
    "# Affichage de résultat\n",
    "ax = Top_5_tech.plot(kind='barh', figsize=(10,7))\n",
    "ax.invert_yaxis()\n",
    "plt.xlabel(\"\\nProfile\")\n",
    "plt.title('Les 5 top technologies les plus utilisés')"
   ]
  },
  {
   "cell_type": "markdown",
   "metadata": {},
   "source": [
    "### 8) Réaliser une méthode de clustering non supervisée de votre choix pour faire apparaître 2 clusters que vous jugerez pertinents. Donnez les caractéristiques de chacun des clusters.\n",
    "-  Justifier la performance de votre algorithme grace à une métrique.\n",
    "-  Interpréter votre resultat.  "
   ]
  },
  {
   "cell_type": "markdown",
   "metadata": {},
   "source": [
    "##### - Avant de commencer, il faut coder la base de données pour pouvoir mener le calculs par la suite."
   ]
  },
  {
   "cell_type": "code",
   "execution_count": 10,
   "metadata": {},
   "outputs": [
    {
     "data": {
      "text/html": [
       "<div>\n",
       "<style scoped>\n",
       "    .dataframe tbody tr th:only-of-type {\n",
       "        vertical-align: middle;\n",
       "    }\n",
       "\n",
       "    .dataframe tbody tr th {\n",
       "        vertical-align: top;\n",
       "    }\n",
       "\n",
       "    .dataframe thead th {\n",
       "        text-align: right;\n",
       "    }\n",
       "</style>\n",
       "<table border=\"1\" class=\"dataframe\">\n",
       "  <thead>\n",
       "    <tr style=\"text-align: right;\">\n",
       "      <th></th>\n",
       "      <th>Experience</th>\n",
       "      <th>Ville_enc</th>\n",
       "      <th>Technologies_enc</th>\n",
       "      <th>Diplome_enc</th>\n",
       "      <th>Exp_label_enc</th>\n",
       "    </tr>\n",
       "  </thead>\n",
       "  <tbody>\n",
       "    <tr>\n",
       "      <th>0</th>\n",
       "      <td>1.0</td>\n",
       "      <td>8</td>\n",
       "      <td>27</td>\n",
       "      <td>1</td>\n",
       "      <td>2</td>\n",
       "    </tr>\n",
       "    <tr>\n",
       "      <th>1</th>\n",
       "      <td>3.0</td>\n",
       "      <td>4</td>\n",
       "      <td>34</td>\n",
       "      <td>1</td>\n",
       "      <td>2</td>\n",
       "    </tr>\n",
       "    <tr>\n",
       "      <th>2</th>\n",
       "      <td>3.0</td>\n",
       "      <td>6</td>\n",
       "      <td>51</td>\n",
       "      <td>1</td>\n",
       "      <td>2</td>\n",
       "    </tr>\n",
       "    <tr>\n",
       "      <th>3</th>\n",
       "      <td>1.5</td>\n",
       "      <td>4</td>\n",
       "      <td>2</td>\n",
       "      <td>1</td>\n",
       "      <td>2</td>\n",
       "    </tr>\n",
       "    <tr>\n",
       "      <th>4</th>\n",
       "      <td>2.0</td>\n",
       "      <td>0</td>\n",
       "      <td>26</td>\n",
       "      <td>3</td>\n",
       "      <td>2</td>\n",
       "    </tr>\n",
       "  </tbody>\n",
       "</table>\n",
       "</div>"
      ],
      "text/plain": [
       "   Experience  Ville_enc  Technologies_enc  Diplome_enc  Exp_label_enc\n",
       "0         1.0          8                27            1              2\n",
       "1         3.0          4                34            1              2\n",
       "2         3.0          6                51            1              2\n",
       "3         1.5          4                 2            1              2\n",
       "4         2.0          0                26            3              2"
      ]
     },
     "execution_count": 10,
     "metadata": {},
     "output_type": "execute_result"
    }
   ],
   "source": [
    "le = preprocessing.LabelEncoder()\n",
    "df_enc = df.loc[:,['Experience']]\n",
    "df_enc['Ville_enc'] = pd.Series(le.fit_transform(np.squeeze(df.loc[:,['Ville']])[:]), index = df_enc.index)\n",
    "df_enc['Technologies_enc'] = pd.Series(le.fit_transform(np.squeeze(df.loc[:,['Technologies']])[:]), index = df_enc.index)\n",
    "df_enc['Diplome_enc'] = pd.Series(le.fit_transform(np.squeeze(df.loc[:,['Diplome']])[:]), index = df_enc.index)\n",
    "df_enc['Exp_label_enc'] = pd.Series(le.fit_transform(np.squeeze(df.loc[:,['Exp_label']])[:]), index = df_enc.index)\n",
    "df_enc = np.round(df_enc,2)\n",
    "df_enc.head(5)"
   ]
  },
  {
   "cell_type": "markdown",
   "metadata": {},
   "source": [
    "##### - La méthode choisi pour le clustering est K-Means, pour sa simplicité et la connaissance du nombre de cluster"
   ]
  },
  {
   "cell_type": "code",
   "execution_count": 11,
   "metadata": {},
   "outputs": [],
   "source": [
    "X = df_enc.astype(float)\n",
    "# feature scaling with MinMaxscaling\n",
    "scaler = MinMaxScaler()\n",
    "X_scaled = scaler.fit_transform(X)\n",
    "kmeans = KMeans(n_clusters=2, max_iter = 100, algorithm = 'auto')\n",
    "kmeans.fit(X_scaled)\n",
    "labels_ = kmeans.labels_\n",
    "c1, c2 = kmeans.cluster_centers_"
   ]
  },
  {
   "cell_type": "markdown",
   "metadata": {},
   "source": [
    "##### - La métrique utilisée est l'erreur moyenne quadratique normalisée"
   ]
  },
  {
   "cell_type": "code",
   "execution_count": 12,
   "metadata": {},
   "outputs": [
    {
     "name": "stdout",
     "output_type": "stream",
     "text": [
      " NMSE  cluster 1: 19.21%\n",
      " NMSE  cluster 2: 11.85%\n"
     ]
    }
   ],
   "source": [
    "# Evaluation de l'erreur de clustering\n",
    "NMSE = lambda a,b: 100 * ((a-b)**2).sum() / ((a)**2).sum()\n",
    "NMSE_1 = NMSE(X_scaled[labels_==0], c1) \n",
    "NMSE_2 = NMSE(X_scaled[labels_==1], c2)\n",
    "print(' NMSE  cluster 1: {0:2.2f}%'.format(NMSE_1))\n",
    "print(' NMSE  cluster 2: {0:2.2f}%'.format(NMSE_2))"
   ]
  },
  {
   "cell_type": "markdown",
   "metadata": {},
   "source": [
    "##### Les erreurs moyennes quadratiques normalisées pour les deux clusteres sont moins de 20%."
   ]
  },
  {
   "cell_type": "code",
   "execution_count": 13,
   "metadata": {},
   "outputs": [
    {
     "data": {
      "image/png": "[encoded data removed]",
      "text/plain": [
       "<Figure size 1440x2160 with 8 Axes>"
      ]
     },
     "metadata": {},
     "output_type": "display_data"
    }
   ],
   "source": [
    "plt.figure(figsize=(20,30))\n",
    "plt.subplot(521),\n",
    "ax = df_enc.loc[labels_==1,'Experience'].plot(kind='hist', color='#2ecc71', label='cluster_1')\n",
    "plt.legend()\n",
    "plt.xlabel(\"Experience\")\n",
    "plt.subplot(522),\n",
    "ax = df_enc.loc[labels_==0,'Experience'].plot(kind='hist', color='#e74c3c', label='cluster_2')\n",
    "plt.xlabel(\"Experience\")\n",
    "plt.legend()\n",
    "\n",
    "plt.subplot(523),\n",
    "ax = df.loc[labels_==1,'Diplome'].value_counts().plot(kind='bar', color='#2ecc71', label='cluster_1')\n",
    "plt.xlabel(\"Diplome\")\n",
    "plt.ylabel(\"Profile\")\n",
    "plt.legend()\n",
    "plt.subplot(524),\n",
    "ax = df.loc[labels_==0,'Diplome'].value_counts().plot(kind='bar', color='#e74c3c', label='cluster_2')\n",
    "plt.xlabel(\"Diplome\")\n",
    "plt.ylabel(\"Profile\")\n",
    "plt.legend()\n",
    "\n",
    "plt.subplot(513),\n",
    "ax = df.loc[labels_==0,'Ville'].value_counts().plot(kind='bar', color = '#e74c3c', label='cluster_2')\n",
    "ax = df.loc[labels_==1,'Ville'].value_counts().plot(kind='bar', color = '#2ecc71', label='cluster_1')\n",
    "plt.ylabel(\"Profile\")\n",
    "plt.xlabel(\"Ville\")\n",
    "plt.legend()\n",
    "\n",
    "plt.subplot(514),\n",
    "ax = df_enc.loc[labels_==0,'Technologies_enc'].value_counts()[0:5].plot(kind='bar', color = '#e74c3c', label='cluster_2')\n",
    "ax = df_enc.loc[labels_==1,'Technologies_enc'].value_counts()[0:5].plot(kind='bar', color = '#2ecc71', label='cluster_1')\n",
    "plt.ylabel(\"Profile\")\n",
    "plt.xlabel(\"\\n Technologie\")\n",
    "plt.legend()\n",
    "\n",
    "plt.subplot(529)\n",
    "ax=df.loc[labels_==1,'Exp_label'].value_counts().plot(kind='bar', color='#2ecc71', label='cluster_1')\n",
    "plt.ylabel(\"Profile\")\n",
    "plt.xlabel(\"\\n Experience Label\")\n",
    "plt.legend()\n",
    "plt.subplot(5,2,10)\n",
    "ax=df.loc[labels_==0,'Exp_label'].value_counts().plot(kind='bar', color='#e74c3c', label='cluster_2')\n",
    "plt.ylabel(\"Profile\")\n",
    "plt.xlabel(\"\\n Experience Label\")\n",
    "plt.legend()\n",
    "\n",
    "plt.subplots_adjust(hspace=1)"
   ]
  },
  {
   "cell_type": "markdown",
   "metadata": {},
   "source": [
    "#### - Les caracteristiques les plus imortantes des deux clusteres sont le Diplome et l'Experience:\n",
    "##### Première Caractérstique est le Diplome :\n",
    " - Cluster 1 : Master  et Bachelor.\n",
    " - Cluster 2 : No diplome et PhD.\n",
    "##### Deuxièmes Caractérstique est l'Expérience :\n",
    " - Le nombre d'année d'Experience des profiles du premier cluster est beaucoup plus élevés par rapport aux profiles du deuxieme cluster."
   ]
  },
  {
   "cell_type": "markdown",
   "metadata": {},
   "source": [
    "### 9) Réaliser la prédiction des métiers manquants dans la base de données par l'algorithme de votre choix\n",
    "-  Justifier la performance de votre algorithme grace à une métrique.\n",
    "-  Interpréter votre resultat.  "
   ]
  },
  {
   "cell_type": "code",
   "execution_count": 32,
   "metadata": {},
   "outputs": [],
   "source": [
    "mask_metier = df.loc[:,'Metier'].isna()\n",
    "# Préparation de la base de donnée sans métier nulle\n",
    "X = np.array(df_enc[~mask_metier])\n",
    "y = le.fit_transform(df.loc[~mask_metier,'Metier'].dropna())\n",
    "#Metier_na contient les donnée avec la caractéristique du metier est nulle.\n",
    "Metier_na = np.array(df_enc[mask_metier])\n",
    "#Diviser les données 75% pour l'entrainement et 25% pour le test\n",
    "X_train, X_test, y_train, y_test = model_selection.train_test_split(X, y, test_size=.25, shuffle=True , random_state=40)"
   ]
  },
  {
   "cell_type": "markdown",
   "metadata": {},
   "source": [
    "##### - Aprés une comparaison de trois modéles de Machine Learning relativement à la métrique de la précision, j'ai choisi le modéle (les K plus proches voisins) qui a la précision la plus élevé pour la prédicition des métiers manquants"
   ]
  },
  {
   "cell_type": "code",
   "execution_count": 33,
   "metadata": {},
   "outputs": [],
   "source": [
    "model = KNeighborsClassifier(n_neighbors=4).fit(X_train,y_train)"
   ]
  },
  {
   "cell_type": "code",
   "execution_count": 34,
   "metadata": {},
   "outputs": [
    {
     "name": "stdout",
     "output_type": "stream",
     "text": [
      "Matrice de confusion :\n",
      "\n",
      "[[483  44  12   3]\n",
      " [ 85 452  17   3]\n",
      " [ 27  33 872  56]\n",
      " [  8   9 181 106]]\n",
      "\n",
      "Le rapport de classificiation :\n",
      "\n",
      "             precision    recall  f1-score   support\n",
      "\n",
      "          0       0.80      0.89      0.84       542\n",
      "          1       0.84      0.81      0.83       557\n",
      "          2       0.81      0.88      0.84       988\n",
      "          3       0.63      0.35      0.45       304\n",
      "\n",
      "avg / total       0.79      0.80      0.79      2391\n",
      "\n"
     ]
    }
   ],
   "source": [
    "y_predicted = model.predict(X_test)\n",
    "cm = confusion_matrix(y_test, y_predicted) \n",
    "print('Matrice de confusion :\\n')\n",
    "print(cm)\n",
    "print('\\nLe rapport de classificiation :\\n')\n",
    "print(classification_report(y_test,y_predicted))"
   ]
  },
  {
   "cell_type": "code",
   "execution_count": 35,
   "metadata": {},
   "outputs": [
    {
     "name": "stdout",
     "output_type": "stream",
     "text": [
      "La précision :80.00836470096195 %\n"
     ]
    }
   ],
   "source": [
    "print(\"La précision :\"+str(accuracy_score(y_test, y_predicted)*100)+' %')"
   ]
  },
  {
   "cell_type": "code",
   "execution_count": 40,
   "metadata": {},
   "outputs": [
    {
     "name": "stdout",
     "output_type": "stream",
     "text": [
      "Le résultat de la prediction des métiers manquants est obtenu à l'aide d'une classification des données avec le model de k- plus proches voisins:\n",
      "\n"
     ]
    },
    {
     "data": {
      "text/html": [
       "<div>\n",
       "<style scoped>\n",
       "    .dataframe tbody tr th:only-of-type {\n",
       "        vertical-align: middle;\n",
       "    }\n",
       "\n",
       "    .dataframe tbody tr th {\n",
       "        vertical-align: top;\n",
       "    }\n",
       "\n",
       "    .dataframe thead th {\n",
       "        text-align: right;\n",
       "    }\n",
       "</style>\n",
       "<table border=\"1\" class=\"dataframe\">\n",
       "  <thead>\n",
       "    <tr style=\"text-align: right;\">\n",
       "      <th></th>\n",
       "      <th>Entreprise</th>\n",
       "      <th>Metier</th>\n",
       "      <th>Technologies</th>\n",
       "      <th>Diplome</th>\n",
       "      <th>Experience</th>\n",
       "      <th>Ville</th>\n",
       "      <th>Exp_label</th>\n",
       "      <th>Metier_predicted</th>\n",
       "    </tr>\n",
       "  </thead>\n",
       "  <tbody>\n",
       "    <tr>\n",
       "      <th>346</th>\n",
       "      <td>Jacobs</td>\n",
       "      <td>NaN</td>\n",
       "      <td>Python/Spark/GNU/Linux</td>\n",
       "      <td>No diploma</td>\n",
       "      <td>2.5</td>\n",
       "      <td>Paris</td>\n",
       "      <td>Debutant</td>\n",
       "      <td>Data engineer</td>\n",
       "    </tr>\n",
       "    <tr>\n",
       "      <th>2058</th>\n",
       "      <td>Ball Aerospace</td>\n",
       "      <td>NaN</td>\n",
       "      <td>VBA/Python/Excel/R</td>\n",
       "      <td>Master</td>\n",
       "      <td>15.0</td>\n",
       "      <td>Lyon</td>\n",
       "      <td>Avance</td>\n",
       "      <td>Data engineer</td>\n",
       "    </tr>\n",
       "    <tr>\n",
       "      <th>2670</th>\n",
       "      <td>eHire, LLC</td>\n",
       "      <td>NaN</td>\n",
       "      <td>Java/C/C++/R/Python</td>\n",
       "      <td>Master</td>\n",
       "      <td>1.5</td>\n",
       "      <td>Toulouse</td>\n",
       "      <td>Debutant</td>\n",
       "      <td>Data scientist</td>\n",
       "    </tr>\n",
       "    <tr>\n",
       "      <th>2899</th>\n",
       "      <td>Norfolk Southern Corp</td>\n",
       "      <td>NaN</td>\n",
       "      <td>Python/Tensorflow/scikit-learn/Deep learning/R</td>\n",
       "      <td>Phd</td>\n",
       "      <td>0.0</td>\n",
       "      <td>Grenoble</td>\n",
       "      <td>Debutant</td>\n",
       "      <td>Data scientist</td>\n",
       "    </tr>\n",
       "    <tr>\n",
       "      <th>3346</th>\n",
       "      <td>J.E. Ranta Associates</td>\n",
       "      <td>NaN</td>\n",
       "      <td>Cassandra/MongoDB/NoSQL/AWS</td>\n",
       "      <td>Master</td>\n",
       "      <td>7.0</td>\n",
       "      <td>Rennes</td>\n",
       "      <td>Confirme</td>\n",
       "      <td>Data architecte</td>\n",
       "    </tr>\n",
       "    <tr>\n",
       "      <th>4248</th>\n",
       "      <td>KPMG</td>\n",
       "      <td>NaN</td>\n",
       "      <td>Python/Microsoft Azure/R/SQL</td>\n",
       "      <td>Phd</td>\n",
       "      <td>2.0</td>\n",
       "      <td>Lyon</td>\n",
       "      <td>Debutant</td>\n",
       "      <td>Data scientist</td>\n",
       "    </tr>\n",
       "    <tr>\n",
       "      <th>4290</th>\n",
       "      <td>Pandora Media, Inc.</td>\n",
       "      <td>NaN</td>\n",
       "      <td>SAS/Teradata/SQL/R/Python/Machine learning/Ang...</td>\n",
       "      <td>Phd</td>\n",
       "      <td>1.5</td>\n",
       "      <td>Toulouse</td>\n",
       "      <td>Debutant</td>\n",
       "      <td>Data scientist</td>\n",
       "    </tr>\n",
       "    <tr>\n",
       "      <th>4292</th>\n",
       "      <td>Partners HealthCare(PHS)</td>\n",
       "      <td>NaN</td>\n",
       "      <td>SAS/Teradata/SQL/R/Python/Machine learning/Ang...</td>\n",
       "      <td>Master</td>\n",
       "      <td>8.0</td>\n",
       "      <td>Bordeaux</td>\n",
       "      <td>Confirme</td>\n",
       "      <td>Lead data scientist</td>\n",
       "    </tr>\n",
       "    <tr>\n",
       "      <th>5425</th>\n",
       "      <td>Ashton Lane Group</td>\n",
       "      <td>NaN</td>\n",
       "      <td>Python/Pyspark/Spark</td>\n",
       "      <td>No diploma</td>\n",
       "      <td>5.0</td>\n",
       "      <td>Lyon</td>\n",
       "      <td>Debutant</td>\n",
       "      <td>Data engineer</td>\n",
       "    </tr>\n",
       "    <tr>\n",
       "      <th>5593</th>\n",
       "      <td>Lighthouse Lab Services</td>\n",
       "      <td>NaN</td>\n",
       "      <td>Python/R/machine learning/Excel/VBA/C++</td>\n",
       "      <td>Master</td>\n",
       "      <td>3.0</td>\n",
       "      <td>Lyon</td>\n",
       "      <td>Debutant</td>\n",
       "      <td>Data scientist</td>\n",
       "    </tr>\n",
       "    <tr>\n",
       "      <th>5712</th>\n",
       "      <td>Ball Aerospace</td>\n",
       "      <td>NaN</td>\n",
       "      <td>Hadoop/Hive/Vertica/Tableau</td>\n",
       "      <td>Bachelor</td>\n",
       "      <td>3.0</td>\n",
       "      <td>Paris</td>\n",
       "      <td>Debutant</td>\n",
       "      <td>Data architecte</td>\n",
       "    </tr>\n",
       "    <tr>\n",
       "      <th>6024</th>\n",
       "      <td>Leidos</td>\n",
       "      <td>NaN</td>\n",
       "      <td>Linux/Python/Hadoop/Perl/Ruby</td>\n",
       "      <td>Master</td>\n",
       "      <td>1.5</td>\n",
       "      <td>Lyon</td>\n",
       "      <td>Debutant</td>\n",
       "      <td>Data architecte</td>\n",
       "    </tr>\n",
       "    <tr>\n",
       "      <th>6625</th>\n",
       "      <td>Ball Aerospace</td>\n",
       "      <td>NaN</td>\n",
       "      <td>Hadoop/Hive/Vertica/Tableau</td>\n",
       "      <td>No diploma</td>\n",
       "      <td>0.0</td>\n",
       "      <td>Paris</td>\n",
       "      <td>Debutant</td>\n",
       "      <td>Data architecte</td>\n",
       "    </tr>\n",
       "    <tr>\n",
       "      <th>7091</th>\n",
       "      <td>KPMG</td>\n",
       "      <td>NaN</td>\n",
       "      <td>SAS/Teradata/SQL/R/Python/Machine learning/Ang...</td>\n",
       "      <td>Master</td>\n",
       "      <td>0.0</td>\n",
       "      <td>Marseille</td>\n",
       "      <td>Debutant</td>\n",
       "      <td>Data scientist</td>\n",
       "    </tr>\n",
       "    <tr>\n",
       "      <th>7228</th>\n",
       "      <td>Environmental Defense Fund</td>\n",
       "      <td>NaN</td>\n",
       "      <td>Map-Reduce/HDFS/PIG/HBASE/Python/Cassandra</td>\n",
       "      <td>Master</td>\n",
       "      <td>2.5</td>\n",
       "      <td>Bordeaux</td>\n",
       "      <td>Debutant</td>\n",
       "      <td>Data engineer</td>\n",
       "    </tr>\n",
       "    <tr>\n",
       "      <th>7330</th>\n",
       "      <td>Turner</td>\n",
       "      <td>NaN</td>\n",
       "      <td>Excel/Python/Matlab/R/machine learning/anglais</td>\n",
       "      <td>Phd</td>\n",
       "      <td>0.5</td>\n",
       "      <td>Lyon</td>\n",
       "      <td>Debutant</td>\n",
       "      <td>Data scientist</td>\n",
       "    </tr>\n",
       "    <tr>\n",
       "      <th>9087</th>\n",
       "      <td>Klein Hersh International</td>\n",
       "      <td>NaN</td>\n",
       "      <td>Hadoop/Hive/Vertica/Tableau</td>\n",
       "      <td>No diploma</td>\n",
       "      <td>3.5</td>\n",
       "      <td>Paris</td>\n",
       "      <td>Debutant</td>\n",
       "      <td>Data architecte</td>\n",
       "    </tr>\n",
       "    <tr>\n",
       "      <th>9427</th>\n",
       "      <td>McKinsey &amp; Company</td>\n",
       "      <td>NaN</td>\n",
       "      <td>Python/R/machine learning/Excel/VBA/C++</td>\n",
       "      <td>Master</td>\n",
       "      <td>1.0</td>\n",
       "      <td>Marseille</td>\n",
       "      <td>Debutant</td>\n",
       "      <td>Data scientist</td>\n",
       "    </tr>\n",
       "    <tr>\n",
       "      <th>9490</th>\n",
       "      <td>Pearson</td>\n",
       "      <td>NaN</td>\n",
       "      <td>R/Python/Spark/Pycharm/SAS/SQL</td>\n",
       "      <td>Master</td>\n",
       "      <td>4.0</td>\n",
       "      <td>Marseille</td>\n",
       "      <td>Debutant</td>\n",
       "      <td>Data scientist</td>\n",
       "    </tr>\n",
       "  </tbody>\n",
       "</table>\n",
       "</div>"
      ],
      "text/plain": [
       "                      Entreprise Metier  \\\n",
       "346                       Jacobs    NaN   \n",
       "2058              Ball Aerospace    NaN   \n",
       "2670                  eHire, LLC    NaN   \n",
       "2899       Norfolk Southern Corp    NaN   \n",
       "3346       J.E. Ranta Associates    NaN   \n",
       "4248                        KPMG    NaN   \n",
       "4290         Pandora Media, Inc.    NaN   \n",
       "4292    Partners HealthCare(PHS)    NaN   \n",
       "5425           Ashton Lane Group    NaN   \n",
       "5593     Lighthouse Lab Services    NaN   \n",
       "5712              Ball Aerospace    NaN   \n",
       "6024                      Leidos    NaN   \n",
       "6625              Ball Aerospace    NaN   \n",
       "7091                        KPMG    NaN   \n",
       "7228  Environmental Defense Fund    NaN   \n",
       "7330                      Turner    NaN   \n",
       "9087   Klein Hersh International    NaN   \n",
       "9427          McKinsey & Company    NaN   \n",
       "9490                     Pearson    NaN   \n",
       "\n",
       "                                           Technologies     Diplome  \\\n",
       "346                              Python/Spark/GNU/Linux  No diploma   \n",
       "2058                                 VBA/Python/Excel/R      Master   \n",
       "2670                                Java/C/C++/R/Python      Master   \n",
       "2899     Python/Tensorflow/scikit-learn/Deep learning/R         Phd   \n",
       "3346                        Cassandra/MongoDB/NoSQL/AWS      Master   \n",
       "4248                       Python/Microsoft Azure/R/SQL         Phd   \n",
       "4290  SAS/Teradata/SQL/R/Python/Machine learning/Ang...         Phd   \n",
       "4292  SAS/Teradata/SQL/R/Python/Machine learning/Ang...      Master   \n",
       "5425                               Python/Pyspark/Spark  No diploma   \n",
       "5593            Python/R/machine learning/Excel/VBA/C++      Master   \n",
       "5712                        Hadoop/Hive/Vertica/Tableau    Bachelor   \n",
       "6024                      Linux/Python/Hadoop/Perl/Ruby      Master   \n",
       "6625                        Hadoop/Hive/Vertica/Tableau  No diploma   \n",
       "7091  SAS/Teradata/SQL/R/Python/Machine learning/Ang...      Master   \n",
       "7228         Map-Reduce/HDFS/PIG/HBASE/Python/Cassandra      Master   \n",
       "7330     Excel/Python/Matlab/R/machine learning/anglais         Phd   \n",
       "9087                        Hadoop/Hive/Vertica/Tableau  No diploma   \n",
       "9427            Python/R/machine learning/Excel/VBA/C++      Master   \n",
       "9490                     R/Python/Spark/Pycharm/SAS/SQL      Master   \n",
       "\n",
       "      Experience      Ville Exp_label     Metier_predicted  \n",
       "346          2.5      Paris  Debutant        Data engineer  \n",
       "2058        15.0       Lyon    Avance        Data engineer  \n",
       "2670         1.5   Toulouse  Debutant       Data scientist  \n",
       "2899         0.0   Grenoble  Debutant       Data scientist  \n",
       "3346         7.0     Rennes  Confirme      Data architecte  \n",
       "4248         2.0       Lyon  Debutant       Data scientist  \n",
       "4290         1.5   Toulouse  Debutant       Data scientist  \n",
       "4292         8.0   Bordeaux  Confirme  Lead data scientist  \n",
       "5425         5.0       Lyon  Debutant        Data engineer  \n",
       "5593         3.0       Lyon  Debutant       Data scientist  \n",
       "5712         3.0      Paris  Debutant      Data architecte  \n",
       "6024         1.5       Lyon  Debutant      Data architecte  \n",
       "6625         0.0      Paris  Debutant      Data architecte  \n",
       "7091         0.0  Marseille  Debutant       Data scientist  \n",
       "7228         2.5   Bordeaux  Debutant        Data engineer  \n",
       "7330         0.5       Lyon  Debutant       Data scientist  \n",
       "9087         3.5      Paris  Debutant      Data architecte  \n",
       "9427         1.0  Marseille  Debutant       Data scientist  \n",
       "9490         4.0  Marseille  Debutant       Data scientist  "
      ]
     },
     "execution_count": 40,
     "metadata": {},
     "output_type": "execute_result"
    }
   ],
   "source": [
    "warnings.filterwarnings(action='ignore', category=DeprecationWarning)\n",
    "#Prédicition les métiers manquants par notre modéle\n",
    "Metier_predicted=model.predict(Metier_na)\n",
    "#Remplissage de la base de données par les métiers prédis aprés la transformation inverse (Code to String ) \n",
    "df.loc[~mask_metier, 'Metier_predicted'] = df.loc[:,'Metier']\n",
    "df.loc[mask_metier, 'Metier_predicted'] = le.inverse_transform(Metier_predicted)\n",
    "#Affichage\n",
    "print(\"Le résultat de la prediction des métiers manquants est obtenu à l'aide d'une classification des données avec le model de k- plus proches voisins:\\n\")\n",
    "df[mask_metier]"
   ]
  }
 ],
 "metadata": {
  "kernelspec": {
   "display_name": "Python 3",
   "language": "python",
   "name": "python3"
  },
  "language_info": {
   "codemirror_mode": {
    "name": "ipython",
    "version": 3
   },
   "file_extension": ".py",
   "mimetype": "text/x-python",
   "name": "python",
   "nbconvert_exporter": "python",
   "pygments_lexer": "ipython3",
   "version": "3.6.5"
  }
 },
 "nbformat": 4,
 "nbformat_minor": 2
}
